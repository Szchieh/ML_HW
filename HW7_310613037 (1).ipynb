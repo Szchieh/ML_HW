{
 "cells": [
  {
   "cell_type": "code",
   "execution_count": 159,
   "id": "a6ab12c5-3f08-4f45-866e-ebfc3c7fb69d",
   "metadata": {},
   "outputs": [],
   "source": [
    "QQ = [\n",
    "    [0,0,0,0,0,0,0,0,0,0],\n",
    "    [0,1,1,1,1,0,0,0,1,1],\n",
    "    [0,0,1,1,1,0,1,1,1,1],\n",
    "    [0,0,1,1,0,0,1,1,1,1],\n",
    "    [0,1,1,1,0,0,1,1,1,0],\n",
    "    [0,0,0,0,0,0,0,0,1,0],\n",
    "    [0,0,0,1,1,1,0,0,1,0],\n",
    "    [0,0,0,1,1,1,1,0,0,0],\n",
    "    [0,0,0,1,1,1,1,0,0,0],\n",
    "    [0,0,0,0,0,0,1,0,0,0],\n",
    "]"
   ]
  },
  {
   "cell_type": "code",
   "execution_count": 160,
   "id": "4267e9f0-1e27-49e2-81c8-1ae9d48db2a9",
   "metadata": {},
   "outputs": [
    {
     "name": "stdout",
     "output_type": "stream",
     "text": [
      "10\n"
     ]
    }
   ],
   "source": [
    "C=len(QQ[0][:])\n",
    "print(C)"
   ]
  },
  {
   "cell_type": "code",
   "execution_count": 161,
   "id": "28ef1cd8-76e2-4ef1-ac1b-8e06c3b0ab92",
   "metadata": {},
   "outputs": [
    {
     "name": "stdout",
     "output_type": "stream",
     "text": [
      "10\n"
     ]
    }
   ],
   "source": [
    "R=len(QQ[:])\n",
    "print(R)"
   ]
  },
  {
   "cell_type": "code",
   "execution_count": 165,
   "id": "7cc01e31-fc6e-4c50-8127-20dea3cbfa2c",
   "metadata": {},
   "outputs": [
    {
     "name": "stdout",
     "output_type": "stream",
     "text": [
      "[[0, 0, 0, 0, 0, 0, 0, 0, 0, 0], [0, 1, 2, 3, 4, 0, 0, 0, 5, 5], [0, 0, 5, 6, 7, 0, 5, 5, 5, 5], [0, 0, 8, 9, 0, 0, 5, 5, 5, 5], [0, 10, 11, 12, 0, 0, 5, 5, 5, 0], [0, 0, 0, 0, 0, 0, 0, 0, 5, 0], [0, 0, 0, 27, 27, 27, 0, 0, 5, 0], [0, 0, 0, 27, 27, 27, 27, 0, 0, 0], [0, 0, 0, 27, 27, 27, 27, 0, 0, 0], [0, 0, 0, 0, 0, 0, 27, 0, 0, 0]]\n"
     ]
    }
   ],
   "source": [
    "aa=1\n",
    "for i in range(C):\n",
    "    for j in range(R):\n",
    "        if QQ[i][j]==1:\n",
    "            QQ[i][j]=aa\n",
    "            aa=aa+1\n",
    "print(QQ)"
   ]
  },
  {
   "cell_type": "code",
   "execution_count": 166,
   "id": "5a48d898-656b-4b5b-b97b-928b9d2f3064",
   "metadata": {},
   "outputs": [
    {
     "name": "stdout",
     "output_type": "stream",
     "text": [
      "[[0, 0, 0, 0, 0, 0, 0, 0, 0, 0], [0, 1, 1, 1, 1, 0, 0, 0, 5, 5], [0, 0, 1, 1, 1, 0, 5, 5, 5, 5], [0, 0, 1, 1, 0, 0, 5, 5, 5, 5], [0, 1, 1, 1, 0, 0, 5, 5, 5, 0], [0, 0, 0, 0, 0, 0, 0, 0, 5, 0], [0, 0, 0, 27, 27, 27, 0, 0, 5, 0], [0, 0, 0, 27, 27, 27, 27, 0, 0, 0], [0, 0, 0, 27, 27, 27, 27, 0, 0, 0], [0, 0, 0, 0, 0, 0, 27, 0, 0, 0]]\n"
     ]
    }
   ],
   "source": [
    "for k in range(10):\n",
    "    for i in range(C):\n",
    "        for j in range(R):\n",
    "            if QQ[i][j]!=0:\n",
    "                if i<C-1 and QQ[i+1][j]!=0:\n",
    "                    QQ[i][j] = min(QQ[i][j],QQ[i+1][j])\n",
    "                    QQ[i+1][j] = min(QQ[i][j],QQ[i+1][j])\n",
    "                if i>0 and QQ[i-1][j]!=0:\n",
    "                    QQ[i][j] = min(QQ[i][j],QQ[i-1][j])\n",
    "                    QQ[i-1][j] = min(QQ[i][j],QQ[i-1][j])\n",
    "                if j>0 and QQ[i][j-1]!=0:\n",
    "                    QQ[i][j] = min(QQ[i][j],QQ[i][j-1])\n",
    "                    QQ[i][j-1] = min(QQ[i][j],QQ[i][j-1])\n",
    "                if j<R-1 and QQ[i][j+1]!=0:\n",
    "                    QQ[i][j] = min(QQ[i][j],QQ[i][j+1])\n",
    "                    QQ[i][j+1] = min(QQ[i][j],QQ[i][j+1])\n",
    "print(QQ)"
   ]
  },
  {
   "cell_type": "code",
   "execution_count": 167,
   "id": "4b858271-c3f8-40c0-ac17-0208fb6be347",
   "metadata": {},
   "outputs": [
    {
     "name": "stdout",
     "output_type": "stream",
     "text": [
      "[1, 5, 27]\n"
     ]
    }
   ],
   "source": [
    "bb=[]\n",
    "for i in range(C):\n",
    "    for j in range(R):\n",
    "        if QQ[i][j]!=0 and QQ[i][j] not in bb:\n",
    "            bb.append(QQ[i][j])\n",
    "print(bb)"
   ]
  },
  {
   "cell_type": "code",
   "execution_count": 168,
   "id": "ee01910b-5251-4721-8eb6-037895fcda41",
   "metadata": {},
   "outputs": [
    {
     "name": "stdout",
     "output_type": "stream",
     "text": [
      "3\n"
     ]
    }
   ],
   "source": [
    "Island = len(bb)\n",
    "print(Island)"
   ]
  },
  {
   "cell_type": "code",
   "execution_count": 169,
   "id": "f9d64164-321d-4981-bbb9-46b27888c80b",
   "metadata": {},
   "outputs": [
    {
     "name": "stdout",
     "output_type": "stream",
     "text": [
      "[12, 15, 12]\n"
     ]
    }
   ],
   "source": [
    "size=[]\n",
    "for k in range(len(bb)):\n",
    "    cunt=0\n",
    "    for i in range(C):\n",
    "        for j in range(R):\n",
    "            if QQ[i][j]==bb[k]:\n",
    "                cunt = cunt + 1\n",
    "    size.append(cunt)\n",
    "print(size)"
   ]
  },
  {
   "cell_type": "code",
   "execution_count": 170,
   "id": "69b8f2c8-4a7b-485d-9497-3a56151df6f8",
   "metadata": {},
   "outputs": [
    {
     "name": "stdout",
     "output_type": "stream",
     "text": [
      "{'Island1': 12, 'Island2': 15, 'Island3': 12}\n"
     ]
    }
   ],
   "source": [
    "Answer={}\n",
    "for i in range(len(size)):\n",
    "    Answer[\"Island\"+str(i+1)]=size[i]\n",
    "print(Answer)"
   ]
  },
  {
   "cell_type": "code",
   "execution_count": null,
   "id": "27dc4810-1676-4d04-8f85-402bbb6f8c33",
   "metadata": {},
   "outputs": [],
   "source": []
  }
 ],
 "metadata": {
  "kernelspec": {
   "display_name": "Python 3 (ipykernel)",
   "language": "python",
   "name": "python3"
  },
  "language_info": {
   "codemirror_mode": {
    "name": "ipython",
    "version": 3
   },
   "file_extension": ".py",
   "mimetype": "text/x-python",
   "name": "python",
   "nbconvert_exporter": "python",
   "pygments_lexer": "ipython3",
   "version": "3.9.7"
  }
 },
 "nbformat": 4,
 "nbformat_minor": 5
}
